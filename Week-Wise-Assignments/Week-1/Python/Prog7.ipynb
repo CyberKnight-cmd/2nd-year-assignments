{
 "cells": [
  {
   "cell_type": "code",
   "execution_count": 1,
   "id": "5d6c3ef8",
   "metadata": {},
   "outputs": [],
   "source": [
    "import array"
   ]
  },
  {
   "cell_type": "code",
   "execution_count": 2,
   "id": "74decdbf",
   "metadata": {},
   "outputs": [],
   "source": [
    "nums = list(map(int, input(\"Enter the elements : \").split()))\n",
    "arr = array.array('i',nums)"
   ]
  },
  {
   "cell_type": "code",
   "execution_count": null,
   "id": "2a03c521",
   "metadata": {},
   "outputs": [
    {
     "name": "stdout",
     "output_type": "stream",
     "text": [
      "array('i', [10, 20, 40, 50])\n"
     ]
    }
   ],
   "source": [
    "deletingIndex = int(input(\"Enter the index to be deleted : \"))\n",
    "if 0 <= deletingIndex < len(arr):\n",
    "    del arr[deletingIndex]\n",
    "    print(arr)\n",
    "else:   print(\"INVALID INDEX ENTERED\")"
   ]
  },
  {
   "cell_type": "code",
   "execution_count": null,
   "id": "5703dbf4",
   "metadata": {},
   "outputs": [],
   "source": []
  }
 ],
 "metadata": {
  "kernelspec": {
   "display_name": "Python 3",
   "language": "python",
   "name": "python3"
  },
  "language_info": {
   "codemirror_mode": {
    "name": "ipython",
    "version": 3
   },
   "file_extension": ".py",
   "mimetype": "text/x-python",
   "name": "python",
   "nbconvert_exporter": "python",
   "pygments_lexer": "ipython3",
   "version": "3.12.0"
  }
 },
 "nbformat": 4,
 "nbformat_minor": 5
}
