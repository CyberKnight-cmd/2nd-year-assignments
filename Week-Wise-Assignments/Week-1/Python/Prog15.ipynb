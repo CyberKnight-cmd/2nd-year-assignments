{
 "cells": [
  {
   "cell_type": "code",
   "execution_count": 1,
   "id": "1459b44f",
   "metadata": {},
   "outputs": [],
   "source": [
    "import array\n"
   ]
  },
  {
   "cell_type": "code",
   "execution_count": 2,
   "id": "3fdf590f",
   "metadata": {},
   "outputs": [
    {
     "name": "stdout",
     "output_type": "stream",
     "text": [
      "Enter 12 integers:\n"
     ]
    }
   ],
   "source": [
    "\n",
    "rows = 3\n",
    "cols = 4\n",
    "\n",
    "# Declare a list to hold rows, each of which is an array\n",
    "arr = []\n",
    "\n",
    "print(\"Enter 12 integers:\")\n",
    "\n",
    "for i in range(rows):\n",
    "    row = array.array('i')  # integer type array\n",
    "    for j in range(cols):\n",
    "        val = int(input(f\"Element [{i}][{j}]: \"))\n",
    "        row.append(val)\n",
    "    arr.append(row)\n",
    "\n"
   ]
  },
  {
   "cell_type": "code",
   "execution_count": 3,
   "id": "d3fd4eb9",
   "metadata": {},
   "outputs": [
    {
     "name": "stdout",
     "output_type": "stream",
     "text": [
      "2D Array contents:\n",
      "1 2 3 4 \n",
      "5 6 7 8 \n",
      "9 10 11 12 \n"
     ]
    }
   ],
   "source": [
    "# Printing the 2D array\n",
    "print(\"2D Array contents:\")\n",
    "for i in range(rows):\n",
    "    for j in range(cols):\n",
    "        print(arr[i][j], end=' ')\n",
    "    print()\n"
   ]
  },
  {
   "cell_type": "code",
   "execution_count": null,
   "id": "a4ea5c4e",
   "metadata": {},
   "outputs": [],
   "source": []
  }
 ],
 "metadata": {
  "kernelspec": {
   "display_name": "Python 3",
   "language": "python",
   "name": "python3"
  },
  "language_info": {
   "codemirror_mode": {
    "name": "ipython",
    "version": 3
   },
   "file_extension": ".py",
   "mimetype": "text/x-python",
   "name": "python",
   "nbconvert_exporter": "python",
   "pygments_lexer": "ipython3",
   "version": "3.12.0"
  }
 },
 "nbformat": 4,
 "nbformat_minor": 5
}
