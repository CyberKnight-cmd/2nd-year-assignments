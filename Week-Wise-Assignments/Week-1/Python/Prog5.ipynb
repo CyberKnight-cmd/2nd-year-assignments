{
 "cells": [
  {
   "cell_type": "code",
   "execution_count": 1,
   "id": "06e2d768",
   "metadata": {},
   "outputs": [],
   "source": [
    "import array"
   ]
  },
  {
   "cell_type": "code",
   "execution_count": 2,
   "id": "30878caa",
   "metadata": {},
   "outputs": [
    {
     "name": "stdout",
     "output_type": "stream",
     "text": [
      "INCORRECT VALUE ENTERED. ENTER AGAIN\n"
     ]
    }
   ],
   "source": [
    "nums = list(map(int, input(\"Enter 6 elements : \").split()))\n",
    "while(len(nums)!=6):\n",
    "    print(\"INCORRECT VALUE ENTERED. ENTER AGAIN\")\n",
    "    nums = list(map(int, input(\"Enter 6 elements : \").split()))\n"
   ]
  },
  {
   "cell_type": "code",
   "execution_count": 4,
   "id": "7c87fd2b",
   "metadata": {},
   "outputs": [
    {
     "name": "stdout",
     "output_type": "stream",
     "text": [
      "10 20 30 40 50 60 "
     ]
    }
   ],
   "source": [
    "arr = array.array('i', nums)\n",
    "for ele in arr:\n",
    "    print(ele, end=' ')"
   ]
  },
  {
   "cell_type": "code",
   "execution_count": null,
   "id": "592b9281",
   "metadata": {},
   "outputs": [],
   "source": []
  }
 ],
 "metadata": {
  "kernelspec": {
   "display_name": "Python 3",
   "language": "python",
   "name": "python3"
  },
  "language_info": {
   "codemirror_mode": {
    "name": "ipython",
    "version": 3
   },
   "file_extension": ".py",
   "mimetype": "text/x-python",
   "name": "python",
   "nbconvert_exporter": "python",
   "pygments_lexer": "ipython3",
   "version": "3.12.0"
  }
 },
 "nbformat": 4,
 "nbformat_minor": 5
}
