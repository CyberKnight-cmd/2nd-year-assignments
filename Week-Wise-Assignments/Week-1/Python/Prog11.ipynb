{
 "cells": [
  {
   "cell_type": "code",
   "execution_count": 1,
   "id": "a8ae78d9",
   "metadata": {},
   "outputs": [],
   "source": [
    "import array\n",
    "import sys"
   ]
  },
  {
   "cell_type": "code",
   "execution_count": null,
   "id": "e3c97b31",
   "metadata": {},
   "outputs": [],
   "source": [
    "def findLargestPairPossible(arr):\n",
    "    max1 = max2 = -sys.maxsize\n",
    "    max1_idx = max2_idx = -1\n",
    "\n",
    "    min1 = min2 = sys.maxsize\n",
    "    min1_idx = min2_idx = -1\n",
    "\n",
    "    for idx, ele in enumerate(arr):\n",
    "        # For max values\n",
    "        if ele > max1:\n",
    "            max2, max2_idx = max1, max1_idx\n",
    "            max1, max1_idx = ele, idx\n",
    "        elif ele > max2:\n",
    "            max2, max2_idx = ele, idx\n",
    "\n",
    "        # For min values\n",
    "        if ele < min1:\n",
    "            min2, min2_idx = min1, min1_idx\n",
    "            min1, min1_idx = ele, idx\n",
    "        elif ele < min2:\n",
    "            min2, min2_idx = ele, idx\n",
    "\n",
    "    # Calculate products\n",
    "    prod_max = max1 * max2\n",
    "    prod_min = min1 * min2\n",
    "\n",
    "    if prod_max >= prod_min:\n",
    "        return (prod_max, (max1_idx, max2_idx))\n",
    "    else:\n",
    "        return (prod_min, (min1_idx, min2_idx))"
   ]
  },
  {
   "cell_type": "code",
   "execution_count": 4,
   "id": "beb8c39c",
   "metadata": {},
   "outputs": [
    {
     "data": {
      "text/plain": [
       "(5000, (6, 5))"
      ]
     },
     "execution_count": 4,
     "metadata": {},
     "output_type": "execute_result"
    }
   ],
   "source": [
    "arr = array.array('i', list(map(int,input(\"Enter the numbers : \").split())))\n",
    "findLargestPairPossible(arr)"
   ]
  },
  {
   "cell_type": "code",
   "execution_count": null,
   "id": "eaec095d",
   "metadata": {},
   "outputs": [],
   "source": []
  }
 ],
 "metadata": {
  "kernelspec": {
   "display_name": "Python 3",
   "language": "python",
   "name": "python3"
  },
  "language_info": {
   "codemirror_mode": {
    "name": "ipython",
    "version": 3
   },
   "file_extension": ".py",
   "mimetype": "text/x-python",
   "name": "python",
   "nbconvert_exporter": "python",
   "pygments_lexer": "ipython3",
   "version": "3.12.0"
  }
 },
 "nbformat": 4,
 "nbformat_minor": 5
}
