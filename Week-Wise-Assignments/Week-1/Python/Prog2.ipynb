{
 "cells": [
  {
   "cell_type": "code",
   "execution_count": 1,
   "id": "9fb22b77",
   "metadata": {},
   "outputs": [],
   "source": [
    "import array"
   ]
  },
  {
   "cell_type": "code",
   "execution_count": 2,
   "id": "ecf16edf",
   "metadata": {},
   "outputs": [],
   "source": [
    "nums = list(map(int, input(\"Enter the elements : \").split()))\n",
    "arr = array.array('i', nums)"
   ]
  },
  {
   "cell_type": "code",
   "execution_count": 3,
   "id": "15c14c65",
   "metadata": {},
   "outputs": [
    {
     "name": "stdout",
     "output_type": "stream",
     "text": [
      "array('i', [10, 20, 30, 40])\n"
     ]
    }
   ],
   "source": [
    "nums = int(input(\"Enter the item to be added : \"))\n",
    "arr.append(nums)\n",
    "print(arr)"
   ]
  },
  {
   "cell_type": "code",
   "execution_count": null,
   "id": "02dfebfb",
   "metadata": {},
   "outputs": [],
   "source": []
  }
 ],
 "metadata": {
  "kernelspec": {
   "display_name": "Python 3",
   "language": "python",
   "name": "python3"
  },
  "language_info": {
   "codemirror_mode": {
    "name": "ipython",
    "version": 3
   },
   "file_extension": ".py",
   "mimetype": "text/x-python",
   "name": "python",
   "nbconvert_exporter": "python",
   "pygments_lexer": "ipython3",
   "version": "3.12.0"
  }
 },
 "nbformat": 4,
 "nbformat_minor": 5
}
